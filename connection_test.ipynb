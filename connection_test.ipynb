{
 "cells": [
  {
   "cell_type": "code",
   "execution_count": 8,
   "metadata": {},
   "outputs": [],
   "source": [
    "from dotenv import load_dotenv\n",
    "import os\n",
    "import base64\n",
    "import json\n",
    "from requests import post, get\n",
    "from requests_oauthlib import OAuth2Session\n",
    "from requests.auth import HTTPBasicAuth"
   ]
  },
  {
   "cell_type": "code",
   "execution_count": 38,
   "metadata": {},
   "outputs": [],
   "source": [
    "load_dotenv()\n",
    "\n",
    "client_id = os.getenv('CLIENT_ID')\n",
    "client_secret = os.getenv('CLIENT_SECRET')\n",
    "\n",
    "scope = 'user-read-recently-played'\n",
    "redirect_uri = 'http://localhost:9090/callback'\n",
    "authorization_url = 'https://accounts.spotify.com/authorize?'"
   ]
  },
  {
   "cell_type": "code",
   "execution_count": 39,
   "metadata": {},
   "outputs": [],
   "source": [
    "# Request authorization to access data\n",
    "# Request contains client_id, response_type, redirect_uri, state, scope\n",
    "# Expected response: code, state\n",
    "\n",
    "\n",
    "def login():\n",
    "    spotify = OAuth2Session(client_id = client_id, scope=scope, redirect_uri=redirect_uri)\n",
    "    state = spotify.authorization_url(authorization_url)\n",
    "    return state"
   ]
  },
  {
   "cell_type": "code",
   "execution_count": 40,
   "metadata": {},
   "outputs": [
    {
     "data": {
      "text/plain": [
       "('https://accounts.spotify.com/authorize?response_type=code&client_id=3131d57c39d74cfc8cde1bfed6da83de&redirect_uri=http%3A%2F%2Flocalhost%3A9090%2Fcallback&scope=user-read-recently-played&state=GmSRkyjwT60293sKZ58CdpxeiSlyYz',\n",
       " 'GmSRkyjwT60293sKZ58CdpxeiSlyYz')"
      ]
     },
     "execution_count": 40,
     "metadata": {},
     "output_type": "execute_result"
    }
   ],
   "source": [
    "login()"
   ]
  },
  {
   "cell_type": "code",
   "execution_count": null,
   "metadata": {},
   "outputs": [],
   "source": [
    "# Request access and refresh token\n",
    "# Request contains client_id, client_secret, grant_type, code, redirect_uri\n",
    "# Expected response: access token, token type, expires in, refresh token"
   ]
  },
  {
   "cell_type": "code",
   "execution_count": null,
   "metadata": {},
   "outputs": [],
   "source": [
    "# Use access token in requests to Web API and receive the data\n",
    "# Request contains access token"
   ]
  },
  {
   "cell_type": "code",
   "execution_count": null,
   "metadata": {},
   "outputs": [],
   "source": []
  }
 ],
 "metadata": {
  "kernelspec": {
   "display_name": ".venv",
   "language": "python",
   "name": "python3"
  },
  "language_info": {
   "codemirror_mode": {
    "name": "ipython",
    "version": 3
   },
   "file_extension": ".py",
   "mimetype": "text/x-python",
   "name": "python",
   "nbconvert_exporter": "python",
   "pygments_lexer": "ipython3",
   "version": "3.11.6"
  }
 },
 "nbformat": 4,
 "nbformat_minor": 2
}
